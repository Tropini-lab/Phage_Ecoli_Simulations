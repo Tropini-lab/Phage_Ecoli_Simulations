{
  "nbformat": 4,
  "nbformat_minor": 0,
  "metadata": {
    "colab": {
      "name": "Ecoli_T4_simulations.ipynb",
      "provenance": [],
      "collapsed_sections": []
    },
    "kernelspec": {
      "name": "python3",
      "display_name": "Python 3"
    },
    "language_info": {
      "name": "python"
    }
  },
  "cells": [
    {
      "cell_type": "code",
      "metadata": {
        "id": "eYlxGMY4ug0D"
      },
      "source": [
        "import numpy as np\n",
        "import scipy\n",
        "import matplotlib.pyplot as plt\n",
        "from google.colab import files\n",
        "import pandas as pd\n",
        "plt.rcParams[\"figure.figsize\"] = (10,8)"
      ],
      "execution_count": null,
      "outputs": []
    },
    {
      "cell_type": "code",
      "metadata": {
        "id": "uO3EBH-889e-"
      },
      "source": [
        "#Creating a simulation class: \n",
        "\n",
        "#Note: Constants for burst size, latency and adsorbption come from this paper:\n",
        "#The paper used E.coli and T4 with LB broth.\n",
        "# https://www.ncbi.nlm.nih.gov/pmc/articles/PMC5911998/\n",
        "\n",
        "\n",
        "class Simulation():\n",
        "\n",
        "  def __init__(self,U,Y0=1E8,burst_constant = 89.5):\n",
        "    self.burst_constant = burst_constant\n",
        "    self.ecoli_per_od1 = 8E8  # concentration of e-coli / mL in a solution with OD = 1\n",
        "    self.U = U  # growth rate in hours^-1\n",
        "    # self.A = 6.24e-8   # Absorbtion rate likelyhood of a single virus infecting a single cell in 1 mL of solution in 1 hour.\n",
        "    self.A = self.adsorbtion_cnt_calculator(U)\n",
        "    self.B = self.burst_size_calculator(U)  # Burst size number of phage released when a single cell lyses, was 60\n",
        "    self.L = self.latency_time_calculator(U) #Latency time in hours\n",
        "    print(\"Absorbtion Constant = \", self.A, \"Burst Size = \", self.B, \"Latency Time= \", self.L)\n",
        "    self.K = .9*self.ecoli_per_od1  #Carrying capacity\n",
        "    self.X0 = .2*self.ecoli_per_od1  # initial concentration  of bacteria\n",
        "    # self.X0 = 6E8 * .25 / 26\n",
        "    self.Y0 = Y0 # Free phage initial concentration\n",
        "    print(\"Initial Concentrations\", self.X0, self.Y0)\n",
        "    self.DELTA_T = 1/300 # hours\n",
        "    self.x = [self.X0] # Bacteria concentration\n",
        "    self.y = [self.Y0] # Free Phage concentration\n",
        "    self.z = [0]       # Bound phage concentration. \n",
        "    self.time = [0]\n",
        "    self.last_printed_time = 0\n",
        "    self.turb_od_limit = 0.4\n",
        "    self.turb_od_floor = 0.2\n",
        "\n",
        "  def adsorbtion_cnt_calculator(self, growth_rate):\n",
        "    #Note: these constants are from LB\n",
        "    Kads = 0.060 #hr-1\n",
        "    Smax = 5E-9 #ml*min-1\n",
        "    Si = 4.75E-9 #ml*min-1 ## not really sure what this parameter stands for.. \n",
        "\n",
        "    # Is it possible to wrap the latency time into the adsorbtion constant?\n",
        "    #S = 60*( Smax - Si*(growth_rate)/(Kads + growth_rate))\n",
        "    S = 60*( Smax - Si*(growth_rate)/(Kads + growth_rate)) / self.latency_time_calculator(growth_rate)\n",
        "    return S\n",
        "\n",
        "  def burst_size_calculator(self,growth_rate):\n",
        "    # Note: these constants are from LB\n",
        "    burst_sz = self.burst_constant*growth_rate\n",
        "    #burst_sz = 50*growth_rate\n",
        "\n",
        "    print(\"Burst size\", burst_sz)\n",
        "    return burst_sz\n",
        "\n",
        "  def latency_time_calculator(self,growth_rate):\n",
        "    #Note: These constants are from LB\n",
        "    #Klat= .145 #hr-1\n",
        "    Klat = .3\n",
        "    #Lmin = 40.5\n",
        "    Lmin = 25.5 # min\n",
        "    L = (Klat + growth_rate)/ (1/Lmin * growth_rate)\n",
        "    return L/60\n",
        "\n",
        "  \n",
        "  def run_cycle(self):\n",
        "    current_time = self.time[len(self.time)-1]+self.DELTA_T\n",
        "    self.time.append(current_time)\n",
        "    y1 = self.y[len(self.y)-1]\n",
        "    x1 = self.x[len(self.x)-1]\n",
        "    z1 = self.z[len(self.z)-1]\n",
        "\n",
        "    #Adding some safety mechanisms if the bacteria concentration is zero:\n",
        "    if x1 <=0:\n",
        "      #If the bacteria concentration is less than zero, keep it at zero, and\n",
        "      #make sure there is no phage reproduction\n",
        "      x2 = 0\n",
        "      y2 = y1\n",
        "      z2 = 0\n",
        "    else:\n",
        "      if x1/self.ecoli_per_od1 > self.turb_od_limit:\n",
        "        # bring the concentrations to the od floor\n",
        "        x1 = x1 * self.turb_od_floor / self.turb_od_limit\n",
        "        y1 = y1 * self.turb_od_floor / self.turb_od_limit\n",
        "        z1 = z1 * self.turb_od_floor / self.turb_od_limit\n",
        "      \n",
        "      # Now, use ODE's to adjust the concentrations: \n",
        "      x2 = x1 + self.DELTA_T*(self.U * x1 - self.L*z1)   # bacteria without carrying capacity\n",
        "      y2 = y1 + self.DELTA_T * (self.L*z1*self.B-self.A *self.DELTA_T * y1 * x1)  # free phage = old + newly burst - newly adsorbed.\n",
        "      z2 = z1 + self.DELTA_T*(self.A *self.DELTA_T * y1 * x1 - self.L*z1)  # Infected bacteria = old infected + new infections - lysed bacteria\n",
        "\n",
        "      #Ignoring the effect of lag: \n",
        "      # x2 = x1 + self.DELTA_T*(self.U * x1 - self.A * self.DELTA_T * x1 * y1)  # bacteria without carrying capacity\n",
        "      # # x2 = x1 + self.DELTA_T*(self.U * x1*(1-x1/self.K) - self.A * self.DELTA_T * x1 * y1)  # bacteria with carrying capacity\n",
        "      # y2 = y1 + self.DELTA_T * (self.A *self.DELTA_T * y1 * x1 *self.B )  # phage\n",
        "      # z2 = 0\n",
        "\n",
        "    \n",
        "      #ignoring the effect of phage: \n",
        "      # x2 = x1 + self.DELTA_T*(self.U * x1*(1-x1/self.K))\n",
        "\n",
        "      if x2 < 0 :\n",
        "        x2 = 0\n",
        "    self.y.append(y2)\n",
        "    self.x.append(x2)\n",
        "    self.z.append(z2)\n",
        "\n",
        "    # Print the outcoming data every 2 minutes\n",
        "    # if current_time - self.last_printed_time > 2/60:\n",
        "    #   print(\"Time = \", round(current_time,2), \"OD = \", round(x2/self.ecoli_per_od1,4), \n",
        "    #         \"Free Phage= \", round(y2,2), \"Infected Bact\" , round(z2,2))\n",
        "    #   self.last_printed_time = current_time\n",
        "    \n",
        "  \n",
        "  def run_simulation(self,trial_name, length_in_hrs = 40):\n",
        "    # Length should be in hours\n",
        "    while self.time[len(self.time)-1] < length_in_hrs:\n",
        "      self.run_cycle()\n",
        "    trial_data = {'Bacteria':np.array(self.x) / self.ecoli_per_od1, 'Phage':np.array(self.y), 'Time':np.array(self.time)}\n",
        "    return [trial_name,trial_data]\n",
        "\n",
        "  def plot_results(self,trial_names):\n",
        "    plt.figure()\n",
        "    plt.title(\"Phage Infection Modelling\")\n",
        "    # Convert E.Coli concentrations in to optical density values\n",
        "    x_in_od = np.array(self.x) / self.ecoli_per_od1\n",
        "    plt.figure()\n",
        "    plt.title(\"Phage Infection\")\n",
        "    plt.plot(np.array(self.time), x_in_od, label = 'Bacteria')\n",
        "    # plt.plot(self.time, self.y, label = 'Phage')\n",
        "    plt.legend()\n",
        "    plt.grid(True)\n",
        "    plt.show()"
      ],
      "execution_count": null,
      "outputs": []
    },
    {
      "cell_type": "code",
      "metadata": {
        "colab": {
          "base_uri": "https://localhost:8080/",
          "height": 455
        },
        "id": "5jETvigcD5cH",
        "outputId": "02b5000e-5ca5-4057-fa30-8114b896bc29"
      },
      "source": [
        "#Running and plotting multiple simulations: \n",
        "all_expts = []  # experimental data will be saved here in the format of [[trial_name,{bacteria OD, phage conc,time}],...]\n",
        "#Running first experimental condition\n",
        "name1 = '90 burst'\n",
        "sim1 = Simulation(U= .4,burst_constant= 89)\n",
        "all_expts.append(sim1.run_simulation(trial_name = name1))\n",
        "#Running second experimental condition\n",
        "name2 = '70 burst'\n",
        "sim2 = Simulation(U=.4, burst_constant= 70)\n",
        "all_expts.append(sim2.run_simulation(trial_name = name2))\n",
        "\n",
        "#Running third experimental condition\n",
        "name3 = '40 burst'\n",
        "sim3 = Simulation(U=.4, burst_constant=40)\n",
        "all_expts.append(sim3.run_simulation(trial_name = name3))\n",
        "names = [name1,name2, name3]\n",
        "#Plotting the results: \n",
        "\n",
        "fig,(ax1,ax2) = plt.subplots(2,1)\n",
        "plt.title(\"Phage Infection Modelling\")\n",
        "ax1.set_title('Bacteria OD High Osmolality', fontsize = 'xx-large')\n",
        "ax1.set_ylabel('OD', fontsize = 'x-large')\n",
        "ax1.grid(True)\n",
        "ax1.set_xlabel('Time (hrs)', fontsize = 'x-large')\n",
        "ax2.set_title('Phage Concentration')\n",
        "ax2.set_ylabel('[Phage]')\n",
        "ax2.set_xlabel('Time (hrs)')\n",
        "ax2.grid(True)\n",
        "for i,expt in enumerate(all_expts):\n",
        "  data_dict = expt[1]\n",
        "  ax1.plot(data_dict.get('Time'), data_dict.get('Bacteria'), label = names[i])\n",
        "  ax2.plot(data_dict.get('Time'), data_dict.get('Phage'), label = 'Phage ' + expt[0])\n",
        "\n",
        "# #Plotting the actual expt:\n",
        "# ax1.plot([t-16 for t in time[2880:7400]], od_920[2880:7400], color = 'violet', label = 'Experimental Data' )\n",
        "# ax1.vlines(0,0,.5,colors='red', label = 'Phage Added', linestyles= 'dashed')\n",
        "\n",
        "ax1.legend(fontsize = 'large')\n",
        "ax2.legend()\n",
        "# plt.rcParams['figure.figsize'] = [20, 16]\n",
        "plt.show()\n",
        "\n",
        "\n",
        "\n",
        "\n"
      ],
      "execution_count": null,
      "outputs": [
        {
          "output_type": "stream",
          "name": "stdout",
          "text": [
            "Burst size 35.6\n",
            "Absorbtion Constant =  7.014979905005482e-08 Burst Size =  35.6 Latency Time=  0.74375\n",
            "Initial Concentrations 160000000.0 100000000.0\n",
            "Burst size 28.0\n",
            "Absorbtion Constant =  7.014979905005482e-08 Burst Size =  28.0 Latency Time=  0.74375\n",
            "Initial Concentrations 160000000.0 100000000.0\n",
            "Burst size 16.0\n",
            "Absorbtion Constant =  7.014979905005482e-08 Burst Size =  16.0 Latency Time=  0.74375\n",
            "Initial Concentrations 160000000.0 100000000.0\n"
          ]
        },
        {
          "output_type": "display_data",
          "data": {
            "text/plain": [
              "<Figure size 432x288 with 2 Axes>"
            ],
            "image/png": "[encoded data removed]"
          },
          "metadata": {
            "needs_background": "light"
          }
        }
      ]
    },
    {
      "cell_type": "code",
      "metadata": {
        "colab": {
          "base_uri": "https://localhost:8080/",
          "height": 166
        },
        "id": "q9SmaFjLKAfz",
        "outputId": "b8f32d31-dbe8-4454-afac-34c668f49a2c"
      },
      "source": [
        "uploaded = files.upload()"
      ],
      "execution_count": null,
      "outputs": [
        {
          "output_type": "error",
          "ename": "NameError",
          "evalue": "ignored",
          "traceback": [
            "\u001b[0;31m---------------------------------------------------------------------------\u001b[0m",
            "\u001b[0;31mNameError\u001b[0m                                 Traceback (most recent call last)",
            "\u001b[0;32m<ipython-input-3-ed2fd71b4a2f>\u001b[0m in \u001b[0;36m<module>\u001b[0;34m()\u001b[0m\n\u001b[0;32m----> 1\u001b[0;31m \u001b[0muploaded\u001b[0m \u001b[0;34m=\u001b[0m \u001b[0mfiles\u001b[0m\u001b[0;34m.\u001b[0m\u001b[0mupload\u001b[0m\u001b[0;34m(\u001b[0m\u001b[0;34m)\u001b[0m\u001b[0;34m\u001b[0m\u001b[0;34m\u001b[0m\u001b[0m\n\u001b[0m",
            "\u001b[0;31mNameError\u001b[0m: name 'files' is not defined"
          ]
        }
      ]
    },
    {
      "cell_type": "code",
      "metadata": {
        "colab": {
          "base_uri": "https://localhost:8080/",
          "height": 246
        },
        "id": "NuCMxd2qJzM2",
        "outputId": "8423ee78-892a-4f1c-8cf0-596365ef0f0b"
      },
      "source": [
        "import io\n",
        "#enter the specific name of the dataframe: \n",
        "# df = pd.read_excel(io.BytesIO(uploaded['Mar29_Phage_Osmo_Data.xlsx']))\n",
        "xls = pd.ExcelFile(io.BytesIO(uploaded['Mar29_Phage_Osmo_Data.xlsx']))\n",
        "df_od_zeroed = pd.read_excel(xls, 'OD_Zeroed')\n",
        "df_time = pd.read_excel(xls, 'Time')\n",
        "print(df_od_zeroed.head())\n",
        "print(df_time.head())\n",
        "\n",
        "# getting the 920 OD data as a list: \n",
        "od_920 = list(df_od_zeroed['OD  920 mOsm vial 11'])\n",
        "time = list(df_time['Time (hours)'])\n",
        "\n",
        "\n"
      ],
      "execution_count": null,
      "outputs": [
        {
          "output_type": "error",
          "ename": "NameError",
          "evalue": "ignored",
          "traceback": [
            "\u001b[0;31m---------------------------------------------------------------------------\u001b[0m",
            "\u001b[0;31mNameError\u001b[0m                                 Traceback (most recent call last)",
            "\u001b[0;32m<ipython-input-14-ec08f98f52c0>\u001b[0m in \u001b[0;36m<module>\u001b[0;34m()\u001b[0m\n\u001b[1;32m      2\u001b[0m \u001b[0;31m#enter the specific name of the dataframe:\u001b[0m\u001b[0;34m\u001b[0m\u001b[0;34m\u001b[0m\u001b[0;34m\u001b[0m\u001b[0m\n\u001b[1;32m      3\u001b[0m \u001b[0;31m# df = pd.read_excel(io.BytesIO(uploaded['Mar29_Phage_Osmo_Data.xlsx']))\u001b[0m\u001b[0;34m\u001b[0m\u001b[0;34m\u001b[0m\u001b[0;34m\u001b[0m\u001b[0m\n\u001b[0;32m----> 4\u001b[0;31m \u001b[0mxls\u001b[0m \u001b[0;34m=\u001b[0m \u001b[0mpd\u001b[0m\u001b[0;34m.\u001b[0m\u001b[0mExcelFile\u001b[0m\u001b[0;34m(\u001b[0m\u001b[0mio\u001b[0m\u001b[0;34m.\u001b[0m\u001b[0mBytesIO\u001b[0m\u001b[0;34m(\u001b[0m\u001b[0muploaded\u001b[0m\u001b[0;34m[\u001b[0m\u001b[0;34m'Mar29_Phage_Osmo_Data.xlsx'\u001b[0m\u001b[0;34m]\u001b[0m\u001b[0;34m)\u001b[0m\u001b[0;34m)\u001b[0m\u001b[0;34m\u001b[0m\u001b[0;34m\u001b[0m\u001b[0m\n\u001b[0m\u001b[1;32m      5\u001b[0m \u001b[0mdf_od_zeroed\u001b[0m \u001b[0;34m=\u001b[0m \u001b[0mpd\u001b[0m\u001b[0;34m.\u001b[0m\u001b[0mread_excel\u001b[0m\u001b[0;34m(\u001b[0m\u001b[0mxls\u001b[0m\u001b[0;34m,\u001b[0m \u001b[0;34m'OD_Zeroed'\u001b[0m\u001b[0;34m)\u001b[0m\u001b[0;34m\u001b[0m\u001b[0;34m\u001b[0m\u001b[0m\n\u001b[1;32m      6\u001b[0m \u001b[0mdf_time\u001b[0m \u001b[0;34m=\u001b[0m \u001b[0mpd\u001b[0m\u001b[0;34m.\u001b[0m\u001b[0mread_excel\u001b[0m\u001b[0;34m(\u001b[0m\u001b[0mxls\u001b[0m\u001b[0;34m,\u001b[0m \u001b[0;34m'Time'\u001b[0m\u001b[0;34m)\u001b[0m\u001b[0;34m\u001b[0m\u001b[0;34m\u001b[0m\u001b[0m\n",
            "\u001b[0;31mNameError\u001b[0m: name 'uploaded' is not defined"
          ]
        }
      ]
    }
  ]
}